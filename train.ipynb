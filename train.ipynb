{
 "cells": [
  {
   "cell_type": "code",
   "execution_count": 2,
   "metadata": {},
   "outputs": [
    {
     "ename": "",
     "evalue": "",
     "output_type": "error",
     "traceback": [
      "\u001b[1;31mThe Kernel crashed while executing code in the current cell or a previous cell. \n",
      "\u001b[1;31mPlease review the code in the cell(s) to identify a possible cause of the failure. \n",
      "\u001b[1;31mClick <a href='https://aka.ms/vscodeJupyterKernelCrash'>here</a> for more info. \n",
      "\u001b[1;31mView Jupyter <a href='command:jupyter.viewOutput'>log</a> for further details."
     ]
    }
   ],
   "source": [
    "import torch\n",
    "import torch.nn as nn\n",
    "import sentencepiece as spm\n",
    "import pandas as pd\n",
    "\n",
    "# https://huggingface.co/datasets/Helsinki-NLP/opus-100/viewer/en-ja"
   ]
  },
  {
   "cell_type": "code",
   "execution_count": 26,
   "metadata": {},
   "outputs": [],
   "source": [
    "splits = {'test': 'en-ja/test-00000-of-00001.parquet', 'train': 'en-ja/train-00000-of-00001.parquet', 'validation': 'en-ja/validation-00000-of-00001.parquet'}\n",
    "test = pd.read_parquet(\"hf://datasets/Helsinki-NLP/opus-100/\" + splits[\"test\"])\n",
    "train = pd.read_parquet(\"hf://datasets/Helsinki-NLP/opus-100/\" + splits[\"train\"])\n",
    "val = pd.read_parquet(\"hf://datasets/Helsinki-NLP/opus-100/\" + splits[\"validation\"])"
   ]
  },
  {
   "cell_type": "code",
   "execution_count": 27,
   "metadata": {},
   "outputs": [
    {
     "name": "stdout",
     "output_type": "stream",
     "text": [
      "Train Size: (1000000, 1)\n",
      "Test Size: (2000, 1)\n",
      "Validation Size: (2000, 1)\n"
     ]
    }
   ],
   "source": [
    "print(f'Train Size: {train.shape}')\n",
    "print(f'Test Size: {test.shape}')\n",
    "print(f'Validation Size: {val.shape}')\n"
   ]
  },
  {
   "cell_type": "code",
   "execution_count": 28,
   "metadata": {},
   "outputs": [],
   "source": [
    "train['english'] = train['translation'].apply(lambda x: x['en'])\n",
    "train['japanese'] = train['translation'].apply(lambda x: x['ja'])"
   ]
  },
  {
   "cell_type": "code",
   "execution_count": 29,
   "metadata": {},
   "outputs": [
    {
     "data": {
      "text/html": [
       "<div>\n",
       "<style scoped>\n",
       "    .dataframe tbody tr th:only-of-type {\n",
       "        vertical-align: middle;\n",
       "    }\n",
       "\n",
       "    .dataframe tbody tr th {\n",
       "        vertical-align: top;\n",
       "    }\n",
       "\n",
       "    .dataframe thead th {\n",
       "        text-align: right;\n",
       "    }\n",
       "</style>\n",
       "<table border=\"1\" class=\"dataframe\">\n",
       "  <thead>\n",
       "    <tr style=\"text-align: right;\">\n",
       "      <th></th>\n",
       "      <th>translation</th>\n",
       "      <th>english</th>\n",
       "      <th>japanese</th>\n",
       "    </tr>\n",
       "  </thead>\n",
       "  <tbody>\n",
       "    <tr>\n",
       "      <th>0</th>\n",
       "      <td>{'en': 'Yeah, Vincent Hanna.', 'ja': '- ラウール -...</td>\n",
       "      <td>Yeah, Vincent Hanna.</td>\n",
       "      <td>- ラウール - ラウールに ヴィンセント・ハンナだ</td>\n",
       "    </tr>\n",
       "    <tr>\n",
       "      <th>1</th>\n",
       "      <td>{'en': 'I'm being held in a basement. I've bee...</td>\n",
       "      <td>I'm being held in a basement. I've been abduct...</td>\n",
       "      <td>いま地下に居ます 他の2人と一緒に誘拐されたんです！</td>\n",
       "    </tr>\n",
       "    <tr>\n",
       "      <th>2</th>\n",
       "      <td>{'en': 'It works!', 'ja': '動いたよ！'}</td>\n",
       "      <td>It works!</td>\n",
       "      <td>動いたよ！</td>\n",
       "    </tr>\n",
       "    <tr>\n",
       "      <th>3</th>\n",
       "      <td>{'en': 'I'm just trying to find out what happe...</td>\n",
       "      <td>I'm just trying to find out what happened here.</td>\n",
       "      <td>何があったか突き止めたい</td>\n",
       "    </tr>\n",
       "    <tr>\n",
       "      <th>4</th>\n",
       "      <td>{'en': 'You okay?', 'ja': '無事か？'}</td>\n",
       "      <td>You okay?</td>\n",
       "      <td>無事か？</td>\n",
       "    </tr>\n",
       "  </tbody>\n",
       "</table>\n",
       "</div>"
      ],
      "text/plain": [
       "                                         translation  \\\n",
       "0  {'en': 'Yeah, Vincent Hanna.', 'ja': '- ラウール -...   \n",
       "1  {'en': 'I'm being held in a basement. I've bee...   \n",
       "2                 {'en': 'It works!', 'ja': '動いたよ！'}   \n",
       "3  {'en': 'I'm just trying to find out what happe...   \n",
       "4                  {'en': 'You okay?', 'ja': '無事か？'}   \n",
       "\n",
       "                                             english  \\\n",
       "0                               Yeah, Vincent Hanna.   \n",
       "1  I'm being held in a basement. I've been abduct...   \n",
       "2                                          It works!   \n",
       "3    I'm just trying to find out what happened here.   \n",
       "4                                          You okay?   \n",
       "\n",
       "                     japanese  \n",
       "0  - ラウール - ラウールに ヴィンセント・ハンナだ  \n",
       "1  いま地下に居ます 他の2人と一緒に誘拐されたんです！  \n",
       "2                       動いたよ！  \n",
       "3                何があったか突き止めたい  \n",
       "4                        無事か？  "
      ]
     },
     "execution_count": 29,
     "metadata": {},
     "output_type": "execute_result"
    }
   ],
   "source": [
    "train.head()"
   ]
  },
  {
   "cell_type": "code",
   "execution_count": 32,
   "metadata": {},
   "outputs": [
    {
     "data": {
      "text/html": [
       "<div>\n",
       "<style scoped>\n",
       "    .dataframe tbody tr th:only-of-type {\n",
       "        vertical-align: middle;\n",
       "    }\n",
       "\n",
       "    .dataframe tbody tr th {\n",
       "        vertical-align: top;\n",
       "    }\n",
       "\n",
       "    .dataframe thead th {\n",
       "        text-align: right;\n",
       "    }\n",
       "</style>\n",
       "<table border=\"1\" class=\"dataframe\">\n",
       "  <thead>\n",
       "    <tr style=\"text-align: right;\">\n",
       "      <th></th>\n",
       "      <th>english</th>\n",
       "      <th>japanese</th>\n",
       "    </tr>\n",
       "  </thead>\n",
       "  <tbody>\n",
       "    <tr>\n",
       "      <th>0</th>\n",
       "      <td>Yeah, Vincent Hanna.</td>\n",
       "      <td>- ラウール - ラウールに ヴィンセント・ハンナだ</td>\n",
       "    </tr>\n",
       "    <tr>\n",
       "      <th>1</th>\n",
       "      <td>I'm being held in a basement. I've been abduct...</td>\n",
       "      <td>いま地下に居ます 他の2人と一緒に誘拐されたんです！</td>\n",
       "    </tr>\n",
       "    <tr>\n",
       "      <th>2</th>\n",
       "      <td>It works!</td>\n",
       "      <td>動いたよ！</td>\n",
       "    </tr>\n",
       "    <tr>\n",
       "      <th>3</th>\n",
       "      <td>I'm just trying to find out what happened here.</td>\n",
       "      <td>何があったか突き止めたい</td>\n",
       "    </tr>\n",
       "    <tr>\n",
       "      <th>4</th>\n",
       "      <td>You okay?</td>\n",
       "      <td>無事か？</td>\n",
       "    </tr>\n",
       "    <tr>\n",
       "      <th>...</th>\n",
       "      <td>...</td>\n",
       "      <td>...</td>\n",
       "    </tr>\n",
       "    <tr>\n",
       "      <th>999995</th>\n",
       "      <td>No?</td>\n",
       "      <td>そうか？</td>\n",
       "    </tr>\n",
       "    <tr>\n",
       "      <th>999996</th>\n",
       "      <td>Some stuff you leave there.</td>\n",
       "      <td>ある記憶は すぐ忘れられ、</td>\n",
       "    </tr>\n",
       "    <tr>\n",
       "      <th>999997</th>\n",
       "      <td>But as for those who believed and did righteou...</td>\n",
       "      <td>主は信仰して善行に動む者を（十分に）報奨される。だがアッラーは，不義を行う者を御好みにならない。</td>\n",
       "    </tr>\n",
       "    <tr>\n",
       "      <th>999998</th>\n",
       "      <td>And he has struck for Us a similitude and forg...</td>\n",
       "      <td>またかれは，われに準えるものを引合いに出して，自分の創造を忘れ，言う。「誰が，朽ち果てた骨を...</td>\n",
       "    </tr>\n",
       "    <tr>\n",
       "      <th>999999</th>\n",
       "      <td>What? It's so fucked up!</td>\n",
       "      <td>- 何だよ</td>\n",
       "    </tr>\n",
       "  </tbody>\n",
       "</table>\n",
       "<p>1000000 rows × 2 columns</p>\n",
       "</div>"
      ],
      "text/plain": [
       "                                                  english  \\\n",
       "0                                    Yeah, Vincent Hanna.   \n",
       "1       I'm being held in a basement. I've been abduct...   \n",
       "2                                               It works!   \n",
       "3         I'm just trying to find out what happened here.   \n",
       "4                                               You okay?   \n",
       "...                                                   ...   \n",
       "999995                                                No?   \n",
       "999996                        Some stuff you leave there.   \n",
       "999997  But as for those who believed and did righteou...   \n",
       "999998  And he has struck for Us a similitude and forg...   \n",
       "999999                           What? It's so fucked up!   \n",
       "\n",
       "                                                 japanese  \n",
       "0                              - ラウール - ラウールに ヴィンセント・ハンナだ  \n",
       "1                              いま地下に居ます 他の2人と一緒に誘拐されたんです！  \n",
       "2                                                   動いたよ！  \n",
       "3                                            何があったか突き止めたい  \n",
       "4                                                    無事か？  \n",
       "...                                                   ...  \n",
       "999995                                               そうか？  \n",
       "999996                                      ある記憶は すぐ忘れられ、  \n",
       "999997   主は信仰して善行に動む者を（十分に）報奨される。だがアッラーは，不義を行う者を御好みにならない。  \n",
       "999998  またかれは，われに準えるものを引合いに出して，自分の創造を忘れ，言う。「誰が，朽ち果てた骨を...  \n",
       "999999                                              - 何だよ  \n",
       "\n",
       "[1000000 rows x 2 columns]"
      ]
     },
     "execution_count": 32,
     "metadata": {},
     "output_type": "execute_result"
    }
   ],
   "source": [
    "train.drop(columns=['translation'], axis=1)"
   ]
  },
  {
   "cell_type": "code",
   "execution_count": 36,
   "metadata": {},
   "outputs": [],
   "source": [
    "english_sentences = train['english'].tolist()\n",
    "\n",
    "with open('english_text.txt', 'w', encoding='utf-8') as f:\n",
    "    for sentence in english_sentences:\n",
    "        f.write(sentence + '\\n')\n"
   ]
  },
  {
   "cell_type": "code",
   "execution_count": 38,
   "metadata": {},
   "outputs": [],
   "source": [
    "spm.SentencePieceTrainer.train(\n",
    "    input='english_text.txt',\n",
    "    model_prefix='en_tokenizer',\n",
    "    vocab_size=32000,\n",
    "    model_type='bpe',\n",
    "    character_coverage=1.0\n",
    "\n",
    ")"
   ]
  },
  {
   "cell_type": "code",
   "execution_count": 39,
   "metadata": {},
   "outputs": [],
   "source": [
    "japanese_sentences = train['japanese'].tolist()\n",
    "\n",
    "with open('japanese_text.txt', 'w', encoding='utf-8') as f:\n",
    "    for sentence in japanese_sentences:\n",
    "        f.write(sentence + '\\n')"
   ]
  },
  {
   "cell_type": "code",
   "execution_count": 3,
   "metadata": {},
   "outputs": [],
   "source": [
    "spm.SentencePieceTrainer.train(\n",
    "    input='japanese_text.txt',\n",
    "    model_prefix='ja_tokenizer',\n",
    "    vocab_size=32000,\n",
    "    model_type='bpe',\n",
    "    character_coverage=1.0\n",
    "\n",
    ")"
   ]
  },
  {
   "cell_type": "code",
   "execution_count": null,
   "metadata": {},
   "outputs": [],
   "source": [
    "sp_en = spm.SentencePieceProcessor()\n",
    "sp_ja = spm.SentencePieceProcessor()\n",
    "\n",
    "sp_en.load('en_tokenizer.model')\n",
    "sp_ja.load('ja_tokenizer.model')"
   ]
  },
  {
   "cell_type": "code",
   "execution_count": null,
   "metadata": {},
   "outputs": [],
   "source": [
    "\n",
    "train['english_tokenized'] = train['english'].apply(lambda x: sp_en.encode(x, out_type=int))\n",
    "train['japanese_tokenized'] = train['japanese'].apply(lambda x: sp_ja.encode(x, out_type=int))"
   ]
  },
  {
   "cell_type": "code",
   "execution_count": null,
   "metadata": {},
   "outputs": [],
   "source": []
  },
  {
   "cell_type": "code",
   "execution_count": null,
   "metadata": {},
   "outputs": [],
   "source": []
  },
  {
   "cell_type": "code",
   "execution_count": null,
   "metadata": {},
   "outputs": [],
   "source": []
  },
  {
   "cell_type": "code",
   "execution_count": null,
   "metadata": {},
   "outputs": [],
   "source": []
  },
  {
   "cell_type": "code",
   "execution_count": null,
   "metadata": {},
   "outputs": [],
   "source": []
  },
  {
   "cell_type": "code",
   "execution_count": null,
   "metadata": {},
   "outputs": [],
   "source": []
  },
  {
   "cell_type": "code",
   "execution_count": null,
   "metadata": {},
   "outputs": [],
   "source": []
  },
  {
   "cell_type": "code",
   "execution_count": null,
   "metadata": {},
   "outputs": [],
   "source": []
  },
  {
   "cell_type": "code",
   "execution_count": null,
   "metadata": {},
   "outputs": [],
   "source": []
  },
  {
   "cell_type": "code",
   "execution_count": null,
   "metadata": {},
   "outputs": [],
   "source": []
  },
  {
   "cell_type": "code",
   "execution_count": null,
   "metadata": {},
   "outputs": [],
   "source": []
  },
  {
   "cell_type": "code",
   "execution_count": null,
   "metadata": {},
   "outputs": [],
   "source": []
  },
  {
   "cell_type": "code",
   "execution_count": null,
   "metadata": {},
   "outputs": [],
   "source": []
  },
  {
   "cell_type": "code",
   "execution_count": null,
   "metadata": {},
   "outputs": [],
   "source": []
  }
 ],
 "metadata": {
  "kernelspec": {
   "display_name": "venv",
   "language": "python",
   "name": "python3"
  },
  "language_info": {
   "codemirror_mode": {
    "name": "ipython",
    "version": 3
   },
   "file_extension": ".py",
   "mimetype": "text/x-python",
   "name": "python",
   "nbconvert_exporter": "python",
   "pygments_lexer": "ipython3",
   "version": "3.12.6"
  }
 },
 "nbformat": 4,
 "nbformat_minor": 2
}
